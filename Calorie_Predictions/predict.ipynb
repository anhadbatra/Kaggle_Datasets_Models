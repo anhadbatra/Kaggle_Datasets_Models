{
 "cells": [
  {
   "cell_type": "code",
   "execution_count": 16,
   "id": "d26015ce",
   "metadata": {},
   "outputs": [
    {
     "name": "stdout",
     "output_type": "stream",
     "text": [
      "                  id            Age         Height         Weight  \\\n",
      "count  750000.000000  750000.000000  750000.000000  750000.000000   \n",
      "mean   374999.500000      41.420404     174.697685      75.145668   \n",
      "std    216506.495284      15.175049      12.824496      13.982704   \n",
      "min         0.000000      20.000000     126.000000      36.000000   \n",
      "25%    187499.750000      28.000000     164.000000      63.000000   \n",
      "50%    374999.500000      40.000000     174.000000      74.000000   \n",
      "75%    562499.250000      52.000000     185.000000      87.000000   \n",
      "max    749999.000000      79.000000     222.000000     132.000000   \n",
      "\n",
      "            Duration     Heart_Rate      Body_Temp       Calories  \n",
      "count  750000.000000  750000.000000  750000.000000  750000.000000  \n",
      "mean       15.421015      95.483995      40.036253      88.282781  \n",
      "std         8.354095       9.449845       0.779875      62.395349  \n",
      "min         1.000000      67.000000      37.100000       1.000000  \n",
      "25%         8.000000      88.000000      39.600000      34.000000  \n",
      "50%        15.000000      95.000000      40.300000      77.000000  \n",
      "75%        23.000000     103.000000      40.700000     136.000000  \n",
      "max        30.000000     128.000000      41.500000     314.000000  \n",
      "id              int64\n",
      "Sex            object\n",
      "Age             int64\n",
      "Height        float64\n",
      "Weight        float64\n",
      "Duration      float64\n",
      "Heart_Rate    float64\n",
      "Body_Temp     float64\n",
      "Calories      float64\n",
      "dtype: object\n"
     ]
    }
   ],
   "source": [
    "import pandas as pd\n",
    "import xgboost as xgb\n",
    "\n",
    "\n",
    "data = pd.read_csv(\"train.csv\")\n",
    "\n",
    "print(data.describe())\n",
    "print(data.dtypes)"
   ]
  },
  {
   "cell_type": "code",
   "execution_count": 17,
   "id": "0e2a88fa",
   "metadata": {},
   "outputs": [],
   "source": [
    "X = data.drop('Calories',axis=1)\n",
    "y = data['Calories']\n",
    "X['Sex'] = X['Sex'].map({'Male':1,'Female':0})"
   ]
  },
  {
   "cell_type": "code",
   "execution_count": 18,
   "id": "17887149",
   "metadata": {},
   "outputs": [],
   "source": [
    "dtrain_reg = xgb.DMatrix(X, y, enable_categorical=True)\n"
   ]
  }
 ],
 "metadata": {
  "kernelspec": {
   "display_name": ".venv",
   "language": "python",
   "name": "python3"
  },
  "language_info": {
   "codemirror_mode": {
    "name": "ipython",
    "version": 3
   },
   "file_extension": ".py",
   "mimetype": "text/x-python",
   "name": "python",
   "nbconvert_exporter": "python",
   "pygments_lexer": "ipython3",
   "version": "3.10.11"
  }
 },
 "nbformat": 4,
 "nbformat_minor": 5
}
